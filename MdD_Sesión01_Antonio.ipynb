{
  "nbformat": 4,
  "nbformat_minor": 0,
  "metadata": {
    "colab": {
      "provenance": [],
      "authorship_tag": "ABX9TyNn9E4jCLrMBw/uJBmRjYyw",
      "include_colab_link": true
    },
    "kernelspec": {
      "name": "python3",
      "display_name": "Python 3"
    },
    "language_info": {
      "name": "python"
    }
  },
  "cells": [
    {
      "cell_type": "markdown",
      "metadata": {
        "id": "view-in-github",
        "colab_type": "text"
      },
      "source": [
        "<a href=\"https://colab.research.google.com/github/TonioRodriguez/MdD-Sesi-n-01/blob/main/MdD_Sesi%C3%B3n01_Antonio.ipynb\" target=\"_parent\"><img src=\"https://colab.research.google.com/assets/colab-badge.svg\" alt=\"Open In Colab\"/></a>"
      ]
    },
    {
      "cell_type": "markdown",
      "source": [
        "# <font color = #6600A1> Minería de Datos </font>\n",
        "## <font color = #6600A1> Sesión 01: Python </font>\n",
        "### <font color = #6600A1>Prof: Vilchis García Juan Ignacio </font>\n",
        "#### <font color = #6600A1>Alumno: Rodríguez Esquivel Luis Antonio </font>\n",
        "#### <font color = #6600A1>Fecha: Miercoles 06 de agosto de 2025 </font>\n",
        "\n",
        "\n"
      ],
      "metadata": {
        "id": "9F5uaEfkK3mS"
      }
    },
    {
      "cell_type": "code",
      "source": [
        "#Variables tipo entero\n",
        "numero = 27"
      ],
      "metadata": {
        "id": "OWXNISkQNgP3"
      },
      "execution_count": null,
      "outputs": []
    },
    {
      "cell_type": "code",
      "source": [
        "#imprimir forma 1\n",
        "print(numero)"
      ],
      "metadata": {
        "colab": {
          "base_uri": "https://localhost:8080/"
        },
        "id": "j3Z168eGNtlL",
        "outputId": "9d5a8493-f6d4-4324-e39e-0bbdbab1629d"
      },
      "execution_count": null,
      "outputs": [
        {
          "output_type": "stream",
          "name": "stdout",
          "text": [
            "27\n"
          ]
        }
      ]
    },
    {
      "cell_type": "code",
      "source": [
        "saludo = \"hola mundo\""
      ],
      "metadata": {
        "id": "LUWOs-0NN-b9"
      },
      "execution_count": null,
      "outputs": []
    },
    {
      "cell_type": "code",
      "source": [
        "print(saludo)"
      ],
      "metadata": {
        "colab": {
          "base_uri": "https://localhost:8080/"
        },
        "id": "XPDuSF3xODRb",
        "outputId": "3d0f655c-83cf-4860-d3f1-dd9728436bd2"
      },
      "execution_count": null,
      "outputs": [
        {
          "output_type": "stream",
          "name": "stdout",
          "text": [
            "hola mundo\n"
          ]
        }
      ]
    },
    {
      "cell_type": "code",
      "source": [
        "#imprimir forma 2\n",
        "display(numero)"
      ],
      "metadata": {
        "colab": {
          "base_uri": "https://localhost:8080/",
          "height": 35
        },
        "id": "g2V7TkktOMKR",
        "outputId": "557e4099-2d91-4cd3-d5e0-449d4bf93705"
      },
      "execution_count": null,
      "outputs": [
        {
          "output_type": "display_data",
          "data": {
            "text/plain": [
              "27"
            ]
          },
          "metadata": {}
        }
      ]
    },
    {
      "cell_type": "code",
      "source": [
        "#imprimir forma 3\n",
        "saludo"
      ],
      "metadata": {
        "colab": {
          "base_uri": "https://localhost:8080/",
          "height": 35
        },
        "id": "AW2-Fg4kOhqG",
        "outputId": "6d514e82-479c-46a0-e0a3-3055646615c1"
      },
      "execution_count": null,
      "outputs": [
        {
          "output_type": "execute_result",
          "data": {
            "text/plain": [
              "'hola mundo'"
            ],
            "application/vnd.google.colaboratory.intrinsic+json": {
              "type": "string"
            }
          },
          "metadata": {},
          "execution_count": 7
        }
      ]
    }
  ]
}